{
 "cells": [
  {
   "cell_type": "markdown",
   "id": "46a93fec",
   "metadata": {},
   "source": [
    "#1 Import Libraries and Load Data"
   ]
  },
  {
   "cell_type": "code",
   "execution_count": 1,
   "id": "a10c5bab",
   "metadata": {},
   "outputs": [
    {
     "name": "stdout",
     "output_type": "stream",
     "text": [
      "Data loaded and split successfully.\n"
     ]
    }
   ],
   "source": [
    "import pandas as pd\n",
    "import numpy as np\n",
    "from sklearn.model_selection import train_test_split, RandomizedSearchCV, GridSearchCV\n",
    "from sklearn.ensemble import RandomForestClassifier\n",
    "from sklearn.metrics import classification_report, ConfusionMatrixDisplay\n",
    "\n",
    "# Load the feature-selected data\n",
    "df = pd.read_csv('../data/final_feature_dataset.csv')\n",
    "# Convert multiclass target to binary if not already done\n",
    "df['target'] = (df['target'] > 0).astype(int)\n",
    "\n",
    "# Prepare data\n",
    "X = df.drop('target', axis=1)\n",
    "y = df['target']\n",
    "X_train, X_test, y_train, y_test = train_test_split(X, y, test_size=0.2, random_state=42, stratify=y)\n",
    "\n",
    "print(\"Data loaded and split successfully.\")"
   ]
  },
  {
   "cell_type": "markdown",
   "id": "2a5fccf3",
   "metadata": {},
   "source": [
    "#2 Method 1 - Randomized Search CV"
   ]
  },
  {
   "cell_type": "code",
   "execution_count": 2,
   "id": "9da161ae",
   "metadata": {},
   "outputs": [
    {
     "name": "stdout",
     "output_type": "stream",
     "text": [
      "Fitting 5 folds for each of 100 candidates, totalling 500 fits\n",
      "\n",
      "--- Best Parameters from Randomized Search ---\n",
      "{'n_estimators': 900, 'min_samples_split': 2, 'min_samples_leaf': 4, 'max_depth': 80, 'bootstrap': True}\n"
     ]
    }
   ],
   "source": [
    "# Define the hyperparameter grid for Randomized Search\n",
    "param_dist = {\n",
    "    'n_estimators': [int(x) for x in np.linspace(start=100, stop=1000, num=10)],\n",
    "    'max_depth': [None] + [int(x) for x in np.linspace(10, 110, num=11)],\n",
    "    'min_samples_split': [2, 5, 10],\n",
    "    'min_samples_leaf': [1, 2, 4],\n",
    "    'bootstrap': [True, False]\n",
    "}\n",
    "\n",
    "# Initialize the model and Randomized Search\n",
    "rf = RandomForestClassifier(random_state=42)\n",
    "random_search = RandomizedSearchCV(\n",
    "    estimator=rf, \n",
    "    param_distributions=param_dist, \n",
    "    n_iter=100, # Number of random combinations to try\n",
    "    cv=5,       # 5-fold cross-validation\n",
    "    verbose=2, \n",
    "    random_state=42, \n",
    "    n_jobs=-1   # Use all available CPU cores\n",
    ")\n",
    "\n",
    "# Fit the random search model\n",
    "random_search.fit(X_train, y_train)\n",
    "\n",
    "print(\"\\n--- Best Parameters from Randomized Search ---\")\n",
    "print(random_search.best_params_)"
   ]
  },
  {
   "cell_type": "markdown",
   "id": "01e490af",
   "metadata": {},
   "source": [
    "#3 Method 2 - Grid Search CV"
   ]
  },
  {
   "cell_type": "code",
   "execution_count": 3,
   "id": "833fa217",
   "metadata": {},
   "outputs": [
    {
     "name": "stdout",
     "output_type": "stream",
     "text": [
      "Fitting 5 folds for each of 12 candidates, totalling 60 fits\n",
      "\n",
      "--- Best Parameters from Grid Search ---\n",
      "{'bootstrap': False, 'max_depth': None, 'min_samples_leaf': 1, 'min_samples_split': 2, 'n_estimators': 1000}\n"
     ]
    }
   ],
   "source": [
    "# Create a more focused parameter grid based on Randomized Search results\n",
    "param_grid = {\n",
    "    'n_estimators': [800, 900, 1000], # Example values around the best find\n",
    "    'max_depth': [None],\n",
    "    'min_samples_split': [2, 3],\n",
    "    'min_samples_leaf': [1, 2],\n",
    "    'bootstrap': [False]\n",
    "}\n",
    "\n",
    "# Initialize Grid Search\n",
    "grid_search = GridSearchCV(\n",
    "    estimator=rf, \n",
    "    param_grid=param_grid, \n",
    "    cv=5, \n",
    "    verbose=2, \n",
    "    n_jobs=-1\n",
    ")\n",
    "\n",
    "# Fit the grid search model\n",
    "grid_search.fit(X_train, y_train)\n",
    "\n",
    "print(\"\\n--- Best Parameters from Grid Search ---\")\n",
    "print(grid_search.best_params_)"
   ]
  },
  {
   "cell_type": "markdown",
   "id": "8c6426d6",
   "metadata": {},
   "source": [
    "#4 Evaluate the Final Tuned Model"
   ]
  },
  {
   "cell_type": "code",
   "execution_count": 6,
   "id": "b7793e5e",
   "metadata": {},
   "outputs": [
    {
     "name": "stdout",
     "output_type": "stream",
     "text": [
      "\n",
      "--- Performance of the Tuned Model on the Test Set ---\n",
      "              precision    recall  f1-score   support\n",
      "\n",
      "           0       0.87      0.82      0.84        33\n",
      "           1       0.80      0.86      0.83        28\n",
      "\n",
      "    accuracy                           0.84        61\n",
      "   macro avg       0.84      0.84      0.84        61\n",
      "weighted avg       0.84      0.84      0.84        61\n",
      "\n"
     ]
    },
    {
     "data": {
      "image/png": "[encoded data removed]",
      "text/plain": [
       "<Figure size 600x400 with 2 Axes>"
      ]
     },
     "metadata": {},
     "output_type": "display_data"
    }
   ],
   "source": [
    "import matplotlib.pyplot as plt\n",
    "# Get the best estimator from the search\n",
    "best_rf_model = grid_search.best_estimator_\n",
    "\n",
    "# Make predictions on the test set\n",
    "y_pred = best_rf_model.predict(X_test)\n",
    "\n",
    "# Print the final performance report\n",
    "print(\"\\n--- Performance of the Tuned Model on the Test Set ---\")\n",
    "print(classification_report(y_test, y_pred))\n",
    "\n",
    "# Plot the confusion matrix\n",
    "fig, ax = plt.subplots(figsize=(6, 4))\n",
    "ConfusionMatrixDisplay.from_estimator(best_rf_model, X_test, y_test, ax=ax, cmap='Blues')\n",
    "plt.title('Confusion Matrix for the Final Tuned Model')\n",
    "plt.show()"
   ]
  },
  {
   "cell_type": "markdown",
   "id": "1d3140f0",
   "metadata": {},
   "source": [
    "Saving the Final Model"
   ]
  },
  {
   "cell_type": "code",
   "execution_count": 7,
   "id": "88bb716b",
   "metadata": {},
   "outputs": [
    {
     "name": "stdout",
     "output_type": "stream",
     "text": [
      "Final model saved to: ../models/final_model.pkl\n",
      "\n",
      "Model loaded successfully. Ready for deployment.\n"
     ]
    }
   ],
   "source": [
    "import joblib\n",
    "\n",
    "# The best model is stored in grid_search.best_estimator_\n",
    "final_model = grid_search.best_estimator_\n",
    "model_path = '../models/final_model.pkl'\n",
    "\n",
    "# Save the model to the specified path\n",
    "joblib.dump(final_model, model_path)\n",
    "\n",
    "print(f\"Final model saved to: {model_path}\")\n",
    "\n",
    "# Optional: Load the model back to verify it works\n",
    "loaded_model = joblib.load(model_path)\n",
    "print(\"\\nModel loaded successfully. Ready for deployment.\")"
   ]
  }
 ],
 "metadata": {
  "kernelspec": {
   "display_name": ".venv",
   "language": "python",
   "name": "python3"
  },
  "language_info": {
   "codemirror_mode": {
    "name": "ipython",
    "version": 3
   },
   "file_extension": ".py",
   "mimetype": "text/x-python",
   "name": "python",
   "nbconvert_exporter": "python",
   "pygments_lexer": "ipython3",
   "version": "3.13.3"
  }
 },
 "nbformat": 4,
 "nbformat_minor": 5
}
